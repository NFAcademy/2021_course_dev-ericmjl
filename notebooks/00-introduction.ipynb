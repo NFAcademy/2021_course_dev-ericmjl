{
 "cells": [
  {
   "cell_type": "markdown",
   "id": "784e6ffd-15bb-4630-a95d-af40c3949de5",
   "metadata": {},
   "source": [
    "# Introduction"
   ]
  },
  {
   "cell_type": "markdown",
   "id": "9cd0c1ad-f58e-4cf6-ba67-c99977eb70af",
   "metadata": {},
   "source": [
    "## Welcome to the course!\n",
    "\n",
    "Welcome to this course, **Deep learning fundamentals: from gradient descent to neural networks**.\n",
    "My name is Eric, and I'll be your instructor for the course.\n",
    "\n",
    "Deep learning is becoming more and more ubiquitous by the day.\n",
    "The hype, however, might stop us from thinking clearly and communicating intelligently\n",
    "about the models that we develop and use.\n",
    "If you're someone who knows a bit of programming in Python and NumPy,\n",
    "then this course will help you gain a firmer grasp of the fundamentals of deep learning.\n",
    "Whether you are a skilled executive or a front-line practitioner,\n",
    "come and leverage your programming skills\n",
    "to gain a fundamental understanding of deep learning\n",
    "and level up your knowledge!"
   ]
  },
  {
   "cell_type": "markdown",
   "id": "ce4844df-9eb3-4277-aa4b-22d7917a7641",
   "metadata": {
    "tags": []
   },
   "source": [
    "## Course Structure\n",
    "\n",
    "This course is designed to disambiguate one question:\n",
    "\"What exactly is happening inside a neural network?\"\n",
    "To answer this question, we will use a combination of code,\n",
    "prose,\n",
    "equations,\n",
    "and videos to show you answers to the questions:\n",
    "\n",
    "1. What is gradient-based optimization?\n",
    "2. How do we optimize parameter values to fit data in linear models?\n",
    "3. How do the concepts from linear models transfer over to logistic models?\n",
    "3. How does that same knowledge transfer conceptually to neural network models?\n",
    "\n",
    "Visually, these are the four notebooks that we have designed to answer those questions.\n",
    "\n",
    "<img src=\"../images/00-introduction/notebooks-overview.png\">"
   ]
  },
  {
   "cell_type": "markdown",
   "id": "75c978a0-e316-40e9-be42-02a583c4a48d",
   "metadata": {},
   "source": [
    "## Learning Objectives\n",
    "\n",
    "By the end of this course, I expect that you should be able to:\n",
    "\n",
    "1. Explain gradient-based optimization in terms of an objective/loss function and parameters we are optimizing,\n",
    "2. Articulate the connection between linear models and feed-forward neural networks, and\n",
    "3. Identify situations where neural networks are useful in lieu of other computational models."
   ]
  },
  {
   "cell_type": "code",
   "execution_count": null,
   "id": "902d979e-0b67-485b-b83c-2954cfefc02b",
   "metadata": {},
   "outputs": [],
   "source": []
  }
 ],
 "metadata": {
  "kernelspec": {
   "display_name": "dl-workshop",
   "language": "python",
   "name": "dl-workshop"
  },
  "language_info": {
   "codemirror_mode": {
    "name": "ipython",
    "version": 3
   },
   "file_extension": ".py",
   "mimetype": "text/x-python",
   "name": "python",
   "nbconvert_exporter": "python",
   "pygments_lexer": "ipython3",
   "version": "3.9.6"
  }
 },
 "nbformat": 4,
 "nbformat_minor": 5
}
